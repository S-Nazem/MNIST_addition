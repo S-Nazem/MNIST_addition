{
 "cells": [
  {
   "cell_type": "code",
   "execution_count": 2,
   "metadata": {},
   "outputs": [],
   "source": [
    "from utils import *\n",
    "from training import *\n",
    "from model import *\n",
    "import numpy as np\n",
    "import matplotlib.pyplot as plt"
   ]
  },
  {
   "cell_type": "markdown",
   "metadata": {},
   "source": [
    "### Plot 1 - Loss and Validation for optimal models given each of the 3 optimisers"
   ]
  },
  {
   "cell_type": "code",
   "execution_count": null,
   "metadata": {},
   "outputs": [],
   "source": [
    "epochs = 10\n",
    "_,_,_,_,_,_, train_list_adam_fixed, val_list_adam_fixed, train_acc_list_adam_fixed, val_acc_list_adam_fixed, _,_,_ = FCNN_optimised_5_hyp('adam', 3, epochs, True)\n",
    "\n",
    "np.savez(train_list_adam_fixed, val_list_adam_fixed, train_acc_list_adam_fixed, val_acc_list_adam_fixed)\n",
    "\n",
    "_,_,_,_,_,_, train_list_sgd_fixed, val_list_sgd_fixed, train_acc_list_sgd_fixed, val_acc_list_sgd_fixed, _,_,_ = FCNN_optimised_5_hyp('sgd', 3, epochs, True)\n",
    "\n",
    "np.savez(train_list_sgd_fixed, val_list_sgd_fixed, train_acc_list_sgd_fixed, val_acc_list_sgd_fixed)\n",
    "\n",
    "_,_,_,_,_,_, train_list_rms_fixed, val_list_rms_fixed, train_acc_list_rms_fixed, val_acc_list_rms_fixed, _,_,_ = FCNN_optimised_5_hyp('rmsprop', 3, epochs, True)\n",
    "\n",
    "np.savez(train_list_rms_fixed, val_list_rms_fixed, train_acc_list_rms_fixed, val_acc_list_rms_fixed)"
   ]
  },
  {
   "cell_type": "code",
   "execution_count": null,
   "metadata": {},
   "outputs": [],
   "source": [
    "plt.plot(range(1,epochs+1), train_list_adam_fixed, label=\"Training Loss Adam\", marker='o')\n",
    "plt.plot(range(1,epochs+1), val_list_adam_fixed, label=\"Validation Loss Adam\", marker='o')\n",
    "plt.plot(range(1,epochs+1), train_list_sgd_fixed, label=\"Training Loss SGD\", marker='o')\n",
    "plt.plot(range(1,epochs+1), val_list_sgd_fixed, label=\"Validation Loss SGD\", marker='o')\n",
    "plt.plot(range(1,epochs+1), train_list_rms_fixed, label=\"Training Loss RMSprop\", marker='o')\n",
    "plt.plot(range(1,epochs+1), val_list_rms_fixed, label=\"Validation Loss RMSprop\", marker='o')\n",
    "plt.xlabel(\"Epochs\")\n",
    "plt.ylabel(\"Loss\")\n",
    "plt.grid(True)\n",
    "plt.legend()\n",
    "plt.show()\n",
    "\n",
    "plt.plot(range(1,epochs+1), train_acc_list_adam_fixed, label=\"Training Accuracy Adam\", marker='o')\n",
    "plt.plot(range(1,epochs+1), val_acc_list_adam_fixed, label=\"Validation Accuracy Adam\", marker='o')\n",
    "plt.plot(range(1,epochs+1), train_acc_list_sgd_fixed, label=\"Training Accuracy SGD\", marker='o')\n",
    "plt.plot(range(1,epochs+1), val_acc_list_sgd_fixed, label=\"Validation Accuracy SGD\", marker='o')\n",
    "plt.plot(range(1,epochs+1), train_acc_list_rms_fixed, label=\"Training Accuracyoss RMSprop\", marker='o')\n",
    "plt.plot(range(1,epochs+1), val_acc_list_rms_fixed, label=\"Validation Accuracy RMSprop\", marker='o')\n",
    "plt.xlabel(\"Epochs\")\n",
    "plt.ylabel(\"Accuracy\")\n",
    "plt.grid(True)\n",
    "plt.legend()\n",
    "plt.show()"
   ]
  }
 ],
 "metadata": {
  "kernelspec": {
   "display_name": "MNIST_venv",
   "language": "python",
   "name": "python3"
  },
  "language_info": {
   "codemirror_mode": {
    "name": "ipython",
    "version": 3
   },
   "file_extension": ".py",
   "mimetype": "text/x-python",
   "name": "python",
   "nbconvert_exporter": "python",
   "pygments_lexer": "ipython3",
   "version": "3.8.0"
  }
 },
 "nbformat": 4,
 "nbformat_minor": 2
}
