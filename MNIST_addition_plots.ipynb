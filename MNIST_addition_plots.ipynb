{
 "cells": [
  {
   "cell_type": "code",
   "execution_count": 6,
   "metadata": {},
   "outputs": [],
   "source": [
    "from utils import *\n",
    "from training import *\n",
    "from model import *\n",
    "import numpy as np\n",
    "import matplotlib.pyplot as plt\n",
    "import torch \n",
    "import torch.nn as nn\n",
    "import torchvision\n",
    "import optuna\n",
    "from torchvision import transforms, datasets\n",
    "import random\n",
    "from torch.utils.data import DataLoader, TensorDataset\n",
    "from sklearn.metrics import confusion_matrix, classification_report\n"
   ]
  },
  {
   "cell_type": "markdown",
   "metadata": {},
   "source": [
    "### Plot 1 - Loss and Validation for optimal models given each of the 3 optimisers"
   ]
  },
  {
   "cell_type": "code",
   "execution_count": 7,
   "metadata": {},
   "outputs": [
    {
     "ename": "TypeError",
     "evalue": "FCNN_optimised_5_hyp() missing 3 required positional arguments: 'test_images', 'test_labels', and 'optimizer'",
     "output_type": "error",
     "traceback": [
      "\u001b[0;31m---------------------------------------------------------------------------\u001b[0m",
      "\u001b[0;31mTypeError\u001b[0m                                 Traceback (most recent call last)",
      "Cell \u001b[0;32mIn[7], line 2\u001b[0m\n\u001b[1;32m      1\u001b[0m epochs \u001b[38;5;241m=\u001b[39m \u001b[38;5;241m10\u001b[39m\n\u001b[0;32m----> 2\u001b[0m _,_,_,_,_,_, train_list_adam_fixed, val_list_adam_fixed, train_acc_list_adam_fixed, val_acc_list_adam_fixed, _,_,_ \u001b[38;5;241m=\u001b[39m \u001b[43mFCNN_optimised_5_hyp\u001b[49m\u001b[43m(\u001b[49m\u001b[38;5;124;43m'\u001b[39;49m\u001b[38;5;124;43madam\u001b[39;49m\u001b[38;5;124;43m'\u001b[39;49m\u001b[43m,\u001b[49m\u001b[43m \u001b[49m\u001b[38;5;241;43m3\u001b[39;49m\u001b[43m,\u001b[49m\u001b[43m \u001b[49m\u001b[43mepochs\u001b[49m\u001b[43m,\u001b[49m\u001b[43m \u001b[49m\u001b[38;5;28;43;01mTrue\u001b[39;49;00m\u001b[43m)\u001b[49m\n\u001b[1;32m      4\u001b[0m np\u001b[38;5;241m.\u001b[39msavez(train_list_adam_fixed, val_list_adam_fixed, train_acc_list_adam_fixed, val_acc_list_adam_fixed)\n\u001b[1;32m      6\u001b[0m _,_,_,_,_,_, train_list_sgd_fixed, val_list_sgd_fixed, train_acc_list_sgd_fixed, val_acc_list_sgd_fixed, _,_,_ \u001b[38;5;241m=\u001b[39m FCNN_optimised_5_hyp(\u001b[38;5;124m'\u001b[39m\u001b[38;5;124msgd\u001b[39m\u001b[38;5;124m'\u001b[39m, \u001b[38;5;241m3\u001b[39m, epochs, \u001b[38;5;28;01mTrue\u001b[39;00m)\n",
      "\u001b[0;31mTypeError\u001b[0m: FCNN_optimised_5_hyp() missing 3 required positional arguments: 'test_images', 'test_labels', and 'optimizer'"
     ]
    }
   ],
   "source": [
    "epochs = 10\n",
    "_,_,_,_,_,_, train_list_adam_fixed, val_list_adam_fixed, train_acc_list_adam_fixed, val_acc_list_adam_fixed, _,_,_ = FCNN_optimised_5_hyp('adam', 3, epochs, True)\n",
    "\n",
    "np.savez(train_list_adam_fixed, val_list_adam_fixed, train_acc_list_adam_fixed, val_acc_list_adam_fixed)\n",
    "\n",
    "_,_,_,_,_,_, train_list_sgd_fixed, val_list_sgd_fixed, train_acc_list_sgd_fixed, val_acc_list_sgd_fixed, _,_,_ = FCNN_optimised_5_hyp('sgd', 3, epochs, True)\n",
    "\n",
    "np.savez(train_list_sgd_fixed, val_list_sgd_fixed, train_acc_list_sgd_fixed, val_acc_list_sgd_fixed)\n",
    "\n",
    "_,_,_,_,_,_, train_list_rms_fixed, val_list_rms_fixed, train_acc_list_rms_fixed, val_acc_list_rms_fixed, _,_,_ = FCNN_optimised_5_hyp('rmsprop', 3, epochs, True)\n",
    "\n",
    "np.savez(train_list_rms_fixed, val_list_rms_fixed, train_acc_list_rms_fixed, val_acc_list_rms_fixed)"
   ]
  },
  {
   "cell_type": "code",
   "execution_count": null,
   "metadata": {},
   "outputs": [],
   "source": [
    "plt.plot(range(1,epochs+1), train_list_adam_fixed, label=\"Training Loss Adam\", marker='o')\n",
    "plt.plot(range(1,epochs+1), val_list_adam_fixed, label=\"Validation Loss Adam\", marker='o')\n",
    "plt.plot(range(1,epochs+1), train_list_sgd_fixed, label=\"Training Loss SGD\", marker='o')\n",
    "plt.plot(range(1,epochs+1), val_list_sgd_fixed, label=\"Validation Loss SGD\", marker='o')\n",
    "plt.plot(range(1,epochs+1), train_list_rms_fixed, label=\"Training Loss RMSprop\", marker='o')\n",
    "plt.plot(range(1,epochs+1), val_list_rms_fixed, label=\"Validation Loss RMSprop\", marker='o')\n",
    "plt.xlabel(\"Epochs\")\n",
    "plt.ylabel(\"Loss\")\n",
    "plt.grid(True)\n",
    "plt.legend()\n",
    "plt.show()\n",
    "\n",
    "plt.plot(range(1,epochs+1), train_acc_list_adam_fixed, label=\"Training Accuracy Adam\", marker='o')\n",
    "plt.plot(range(1,epochs+1), val_acc_list_adam_fixed, label=\"Validation Accuracy Adam\", marker='o')\n",
    "plt.plot(range(1,epochs+1), train_acc_list_sgd_fixed, label=\"Training Accuracy SGD\", marker='o')\n",
    "plt.plot(range(1,epochs+1), val_acc_list_sgd_fixed, label=\"Validation Accuracy SGD\", marker='o')\n",
    "plt.plot(range(1,epochs+1), train_acc_list_rms_fixed, label=\"Training Accuracyoss RMSprop\", marker='o')\n",
    "plt.plot(range(1,epochs+1), val_acc_list_rms_fixed, label=\"Validation Accuracy RMSprop\", marker='o')\n",
    "plt.xlabel(\"Epochs\")\n",
    "plt.ylabel(\"Accuracy\")\n",
    "plt.grid(True)\n",
    "plt.legend()\n",
    "plt.show()"
   ]
  }
 ],
 "metadata": {
  "kernelspec": {
   "display_name": "MNIST_venv",
   "language": "python",
   "name": "python3"
  },
  "language_info": {
   "codemirror_mode": {
    "name": "ipython",
    "version": 3
   },
   "file_extension": ".py",
   "mimetype": "text/x-python",
   "name": "python",
   "nbconvert_exporter": "python",
   "pygments_lexer": "ipython3",
   "version": "3.9.12"
  }
 },
 "nbformat": 4,
 "nbformat_minor": 2
}
